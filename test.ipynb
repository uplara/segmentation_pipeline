{
 "cells": [
  {
   "cell_type": "code",
   "execution_count": 11,
   "metadata": {},
   "outputs": [],
   "source": [
    "import numpy as np\n",
    "import pandas as pd\n",
    "from PIL import Image\n",
    "import glob\n",
    "import matplotlib.pyplot as plt\n",
    "import tensorflow as tf\n",
    "from deeplab import Deeplabv3\n",
    "import cv2\n",
    "import imutils\n",
    "import math"
   ]
  },
  {
   "cell_type": "code",
   "execution_count": 2,
   "metadata": {},
   "outputs": [],
   "source": [
    "collar_model = Deeplabv3(input_shape=(256, 256, 3), classes=1)\n",
    "collar_model.load_weights('./pretrained_weights/deeplab_collar_lite.hdf5')\n",
    "arm_model = Deeplabv3(input_shape = (256,256,3), classes = 6)\n",
    "arm_model.load_weights('./pretrained_weights/deeplab_arm_lite.hdf5')\n"
   ]
  },
  {
   "cell_type": "code",
   "execution_count": 3,
   "metadata": {},
   "outputs": [],
   "source": [
    "all_images = glob.glob('./testset/*.jpg')"
   ]
  },
  {
   "cell_type": "code",
   "execution_count": 4,
   "metadata": {},
   "outputs": [],
   "source": [
    "def preprocess_collar(img, alpha):\n",
    "    alpha = 1 - (alpha==0)\n",
    "    cropped_img_1 = cropping(img, alpha, delta = 10)\n",
    "    cropped_img_2, img_1 = resize_special(cropped_img_1, 5.5)\n",
    "    new_img = np.expand_dims(cropped_img_2, axis = 0)\n",
    "    new_img = new_img / 255.0\n",
    "    return new_img, cropped_img_1, img_1"
   ]
  },
  {
   "cell_type": "code",
   "execution_count": 5,
   "metadata": {},
   "outputs": [],
   "source": [
    "def get_extreme_points(image):\n",
    "    cnts = cv2.findContours(image.astype(np.uint8).copy(), cv2.RETR_EXTERNAL,cv2.CHAIN_APPROX_SIMPLE)\n",
    "    cnts = imutils.grab_contours(cnts)\n",
    "    c = max(cnts, key=cv2.contourArea)\n",
    "    ext_left = tuple(c[c[:, :, 0].argmin()][0])\n",
    "    ext_right = tuple(c[c[:, :, 0].argmax()][0])\n",
    "    ext_top = tuple(c[c[:, :, 1].argmin()][0])\n",
    "    ext_bottom = tuple(c[c[:, :, 1].argmax()][0])\n",
    "    xmin = ext_left[0]; ymin = ext_top[1]; xmax = ext_right[0]; ymax = ext_bottom[1]\n",
    "    return xmin, ymin, xmax, ymax"
   ]
  },
  {
   "cell_type": "code",
   "execution_count": 6,
   "metadata": {},
   "outputs": [],
   "source": [
    "def resize(image, shape, string):\n",
    "    image = Image.fromarray(image)\n",
    "    if string == 'mask':\n",
    "        image.thumbnail((shape,shape), resample=Image.LANCZOS)\n",
    "        image = np.array(image)\n",
    "        image[image > 0.5] = 1\n",
    "        image[image < 0.5] =0\n",
    "    else:\n",
    "        image.thumbnail((shape,shape), resample=Image.LANCZOS)\n",
    "        image = np.array(image)\n",
    "    delh = (shape-image.shape[0])/2. \n",
    "    delw = (shape-image.shape[1])/2. \n",
    "    new_img = cv2.copyMakeBorder(image, math.floor(delh) + math.ceil(delh), 0, math.floor(delw), math.ceil(delw), cv2.BORDER_CONSTANT, value=image[0,0].tolist())\n",
    "    return new_img, image\n",
    "\n",
    "def resize_special(img, hyp = 5.5):\n",
    "    delw = np.int(img.shape[1]/hyp)\n",
    "    delta = img.shape[1] - delw\n",
    "    delh = np.abs(delw-delta)\n",
    "    img_1 = img[:delh, delw:delta]\n",
    "    img = cv2.resize(img_1.astype(np.uint8), (256,256))\n",
    "    return img, img_1\n",
    "\n",
    "def cropping(img, alpha, delta = 10):\n",
    "    img = np.array(img); alpha = np.array(alpha)\n",
    "    xmin,ymin, xmax, ymax = get_extreme_points(alpha)\n",
    "    height, width, _ = img.shape\n",
    "    img = img[max((ymin-delta), 0):min((ymax + delta), height),max((xmin-delta), 0):min((xmax + delta), width)]\n",
    "    return img"
   ]
  },
  {
   "cell_type": "code",
   "execution_count": 7,
   "metadata": {},
   "outputs": [],
   "source": [
    "def decode_collar_output(mask, crp_1 ,crp_2, img, alpha, hyp = 5.5, delta = 10):\n",
    "    #1st phase of decoding\n",
    "#     alpha = np.argmax(alpha, axis = -1)\n",
    "    delw = np.int(crp_1.shape[1]/hyp)\n",
    "    delta = crp_1.shape[1] - delw\n",
    "    delh = np.abs(delw-delta)\n",
    "    new_mask = cv2.resize(mask.astype(np.uint8), (crp_2.shape[1], crp_2.shape[0]))\n",
    "    new_mask = cv2.copyMakeBorder(new_mask, 0, crp_1.shape[0]-delh, delw, delw, 0)\n",
    "    #2nd phase of decoding\n",
    "    h = img.shape[0]\n",
    "    w = img.shape[1]\n",
    "    xmin, ymin, xmax, ymax = get_extreme_points(1-(alpha==0))\n",
    "    xmin = max(xmin - 10, 0); xmax = min(xmax + 10, alpha.shape[1])\n",
    "    ymin = max(ymin - 10, 0); ymax = min(ymax + 10, alpha.shape[0])\n",
    "    y0 = ymin\n",
    "    y1 = img.shape[0]- ymax\n",
    "    x0 = xmin\n",
    "    x1 = img.shape[1]- xmax\n",
    "    new_mask = cv2.copyMakeBorder(new_mask, y0, y1, x0, x1, 0)\n",
    "    new_mask = new_mask * (alpha==5)\n",
    "    return new_mask"
   ]
  },
  {
   "cell_type": "code",
   "execution_count": 8,
   "metadata": {},
   "outputs": [],
   "source": [
    "def preprocess_arm(img):\n",
    "    shape = (img.size[0], img.size[1])\n",
    "    img, img_1 = resize(np.array(img), 256, None)\n",
    "    img = np.expand_dims(img, axis = 0)\n",
    "    img = img / 255.0\n",
    "    return img,img_1\n",
    "    \n",
    "import math"
   ]
  },
  {
   "cell_type": "code",
   "execution_count": 16,
   "metadata": {},
   "outputs": [],
   "source": [
    "def RetColor(im):\n",
    "    color = np.asarray([[0,0,0],[1,1,1],[0,1,0],[0,0,1],[1,0,0],[1,1,0], [1,0,1]])*255\n",
    "    ret_im = np.zeros((im.shape[0],im.shape[1],3))\n",
    "    ret_im = color[im]\n",
    "    return ret_im"
   ]
  },
  {
   "cell_type": "code",
   "execution_count": 108,
   "metadata": {},
   "outputs": [],
   "source": [
    "for path in all_images:\n",
    "    ID = path.split('/')[-1].split('.')[0]\n",
    "    img = Image.open(path).convert('RGB')\n",
    "    arm_input, img_1 = preprocess_arm(img)\n",
    "    arm_output =arm_model.predict(arm_input)[0]\n",
    "    arm_output = decode_arm_output(arm_output, img_1, np.array(img))\n",
    "    collar_input, crp_1, crp_2 = preprocess_collar(img, arm_output)\n",
    "    collar_output = collar_model.predict(collar_input)[0]\n",
    "    collar_output = collar_output > 0.3\n",
    "    collar_output = decode_collar_output(collar_output, crp_1 , crp_2,  np.array(img), arm_output, hyp = 5.5, delta = 10 )\n",
    "    indices = np.nonzero(collar_output)\n",
    "    arm_output[indices] = 6\n",
    "#     plt.imshow(RetColor(arm_output))\n",
    "#     plt.imshow(img, alpha = 0.5)\n",
    "#     plt.show()\n",
    "    output = Image.fromarray(RetColor(arm_output).astype(np.uint8))\n",
    "    output.save(f'./output/{ID}.png')\n"
   ]
  },
  {
   "cell_type": "code",
   "execution_count": 106,
   "metadata": {},
   "outputs": [],
   "source": [
    "def decode_arm_output(output, img_1, img):\n",
    "    delh = img_1.shape[0] - output.shape[0]\n",
    "    delw = np.abs((img_1.shape[1] - output.shape[1])//2)\n",
    "    output = output[:, delw:output.shape[1]-delw]\n",
    "    shape = (img.shape[1], img.shape[0])\n",
    "    output = cv2.resize(output, shape)\n",
    "    output = np.argmax(output, axis = -1)\n",
    "    return output"
   ]
  },
  {
   "cell_type": "code",
   "execution_count": 94,
   "metadata": {},
   "outputs": [],
   "source": [
    "x = decode_arm_output(arm_output, img_1, np.array(img))"
   ]
  },
  {
   "cell_type": "code",
   "execution_count": 105,
   "metadata": {},
   "outputs": [
    {
     "ename": "TypeError",
     "evalue": "Invalid shape () for image data",
     "output_type": "error",
     "traceback": [
      "\u001b[0;31m---------------------------------------------------------------------------\u001b[0m",
      "\u001b[0;31mTypeError\u001b[0m                                 Traceback (most recent call last)",
      "\u001b[0;32m<ipython-input-105-1d12f9f3738a>\u001b[0m in \u001b[0;36m<module>\u001b[0;34m\u001b[0m\n\u001b[0;32m----> 1\u001b[0;31m \u001b[0mplt\u001b[0m\u001b[0;34m.\u001b[0m\u001b[0mimshow\u001b[0m\u001b[0;34m(\u001b[0m\u001b[0marm_output\u001b[0m\u001b[0;34m)\u001b[0m\u001b[0;34m\u001b[0m\u001b[0;34m\u001b[0m\u001b[0m\n\u001b[0m",
      "\u001b[0;32m~/anaconda3/envs/parse/lib/python3.6/site-packages/matplotlib/pyplot.py\u001b[0m in \u001b[0;36mimshow\u001b[0;34m(X, cmap, norm, aspect, interpolation, alpha, vmin, vmax, origin, extent, filternorm, filterrad, resample, url, data, **kwargs)\u001b[0m\n\u001b[1;32m   2711\u001b[0m         \u001b[0mfilternorm\u001b[0m\u001b[0;34m=\u001b[0m\u001b[0mfilternorm\u001b[0m\u001b[0;34m,\u001b[0m \u001b[0mfilterrad\u001b[0m\u001b[0;34m=\u001b[0m\u001b[0mfilterrad\u001b[0m\u001b[0;34m,\u001b[0m \u001b[0mresample\u001b[0m\u001b[0;34m=\u001b[0m\u001b[0mresample\u001b[0m\u001b[0;34m,\u001b[0m\u001b[0;34m\u001b[0m\u001b[0;34m\u001b[0m\u001b[0m\n\u001b[1;32m   2712\u001b[0m         \u001b[0murl\u001b[0m\u001b[0;34m=\u001b[0m\u001b[0murl\u001b[0m\u001b[0;34m,\u001b[0m \u001b[0;34m**\u001b[0m\u001b[0;34m(\u001b[0m\u001b[0;34m{\u001b[0m\u001b[0;34m\"data\"\u001b[0m\u001b[0;34m:\u001b[0m \u001b[0mdata\u001b[0m\u001b[0;34m}\u001b[0m \u001b[0;32mif\u001b[0m \u001b[0mdata\u001b[0m \u001b[0;32mis\u001b[0m \u001b[0;32mnot\u001b[0m \u001b[0;32mNone\u001b[0m \u001b[0;32melse\u001b[0m \u001b[0;34m{\u001b[0m\u001b[0;34m}\u001b[0m\u001b[0;34m)\u001b[0m\u001b[0;34m,\u001b[0m\u001b[0;34m\u001b[0m\u001b[0;34m\u001b[0m\u001b[0m\n\u001b[0;32m-> 2713\u001b[0;31m         **kwargs)\n\u001b[0m\u001b[1;32m   2714\u001b[0m     \u001b[0msci\u001b[0m\u001b[0;34m(\u001b[0m\u001b[0m__ret\u001b[0m\u001b[0;34m)\u001b[0m\u001b[0;34m\u001b[0m\u001b[0;34m\u001b[0m\u001b[0m\n\u001b[1;32m   2715\u001b[0m     \u001b[0;32mreturn\u001b[0m \u001b[0m__ret\u001b[0m\u001b[0;34m\u001b[0m\u001b[0;34m\u001b[0m\u001b[0m\n",
      "\u001b[0;32m~/anaconda3/envs/parse/lib/python3.6/site-packages/matplotlib/__init__.py\u001b[0m in \u001b[0;36minner\u001b[0;34m(ax, data, *args, **kwargs)\u001b[0m\n\u001b[1;32m   1429\u001b[0m     \u001b[0;32mdef\u001b[0m \u001b[0minner\u001b[0m\u001b[0;34m(\u001b[0m\u001b[0max\u001b[0m\u001b[0;34m,\u001b[0m \u001b[0;34m*\u001b[0m\u001b[0margs\u001b[0m\u001b[0;34m,\u001b[0m \u001b[0mdata\u001b[0m\u001b[0;34m=\u001b[0m\u001b[0;32mNone\u001b[0m\u001b[0;34m,\u001b[0m \u001b[0;34m**\u001b[0m\u001b[0mkwargs\u001b[0m\u001b[0;34m)\u001b[0m\u001b[0;34m:\u001b[0m\u001b[0;34m\u001b[0m\u001b[0;34m\u001b[0m\u001b[0m\n\u001b[1;32m   1430\u001b[0m         \u001b[0;32mif\u001b[0m \u001b[0mdata\u001b[0m \u001b[0;32mis\u001b[0m \u001b[0;32mNone\u001b[0m\u001b[0;34m:\u001b[0m\u001b[0;34m\u001b[0m\u001b[0;34m\u001b[0m\u001b[0m\n\u001b[0;32m-> 1431\u001b[0;31m             \u001b[0;32mreturn\u001b[0m \u001b[0mfunc\u001b[0m\u001b[0;34m(\u001b[0m\u001b[0max\u001b[0m\u001b[0;34m,\u001b[0m \u001b[0;34m*\u001b[0m\u001b[0mmap\u001b[0m\u001b[0;34m(\u001b[0m\u001b[0msanitize_sequence\u001b[0m\u001b[0;34m,\u001b[0m \u001b[0margs\u001b[0m\u001b[0;34m)\u001b[0m\u001b[0;34m,\u001b[0m \u001b[0;34m**\u001b[0m\u001b[0mkwargs\u001b[0m\u001b[0;34m)\u001b[0m\u001b[0;34m\u001b[0m\u001b[0;34m\u001b[0m\u001b[0m\n\u001b[0m\u001b[1;32m   1432\u001b[0m \u001b[0;34m\u001b[0m\u001b[0m\n\u001b[1;32m   1433\u001b[0m         \u001b[0mbound\u001b[0m \u001b[0;34m=\u001b[0m \u001b[0mnew_sig\u001b[0m\u001b[0;34m.\u001b[0m\u001b[0mbind\u001b[0m\u001b[0;34m(\u001b[0m\u001b[0max\u001b[0m\u001b[0;34m,\u001b[0m \u001b[0;34m*\u001b[0m\u001b[0margs\u001b[0m\u001b[0;34m,\u001b[0m \u001b[0;34m**\u001b[0m\u001b[0mkwargs\u001b[0m\u001b[0;34m)\u001b[0m\u001b[0;34m\u001b[0m\u001b[0;34m\u001b[0m\u001b[0m\n",
      "\u001b[0;32m~/anaconda3/envs/parse/lib/python3.6/site-packages/matplotlib/axes/_axes.py\u001b[0m in \u001b[0;36mimshow\u001b[0;34m(self, X, cmap, norm, aspect, interpolation, alpha, vmin, vmax, origin, extent, filternorm, filterrad, resample, url, **kwargs)\u001b[0m\n\u001b[1;32m   5517\u001b[0m                               resample=resample, **kwargs)\n\u001b[1;32m   5518\u001b[0m \u001b[0;34m\u001b[0m\u001b[0m\n\u001b[0;32m-> 5519\u001b[0;31m         \u001b[0mim\u001b[0m\u001b[0;34m.\u001b[0m\u001b[0mset_data\u001b[0m\u001b[0;34m(\u001b[0m\u001b[0mX\u001b[0m\u001b[0;34m)\u001b[0m\u001b[0;34m\u001b[0m\u001b[0;34m\u001b[0m\u001b[0m\n\u001b[0m\u001b[1;32m   5520\u001b[0m         \u001b[0mim\u001b[0m\u001b[0;34m.\u001b[0m\u001b[0mset_alpha\u001b[0m\u001b[0;34m(\u001b[0m\u001b[0malpha\u001b[0m\u001b[0;34m)\u001b[0m\u001b[0;34m\u001b[0m\u001b[0;34m\u001b[0m\u001b[0m\n\u001b[1;32m   5521\u001b[0m         \u001b[0;32mif\u001b[0m \u001b[0mim\u001b[0m\u001b[0;34m.\u001b[0m\u001b[0mget_clip_path\u001b[0m\u001b[0;34m(\u001b[0m\u001b[0;34m)\u001b[0m \u001b[0;32mis\u001b[0m \u001b[0;32mNone\u001b[0m\u001b[0;34m:\u001b[0m\u001b[0;34m\u001b[0m\u001b[0;34m\u001b[0m\u001b[0m\n",
      "\u001b[0;32m~/anaconda3/envs/parse/lib/python3.6/site-packages/matplotlib/image.py\u001b[0m in \u001b[0;36mset_data\u001b[0;34m(self, A)\u001b[0m\n\u001b[1;32m    705\u001b[0m                 or self._A.ndim == 3 and self._A.shape[-1] in [3, 4]):\n\u001b[1;32m    706\u001b[0m             raise TypeError(\"Invalid shape {} for image data\"\n\u001b[0;32m--> 707\u001b[0;31m                             .format(self._A.shape))\n\u001b[0m\u001b[1;32m    708\u001b[0m \u001b[0;34m\u001b[0m\u001b[0m\n\u001b[1;32m    709\u001b[0m         \u001b[0;32mif\u001b[0m \u001b[0mself\u001b[0m\u001b[0;34m.\u001b[0m\u001b[0m_A\u001b[0m\u001b[0;34m.\u001b[0m\u001b[0mndim\u001b[0m \u001b[0;34m==\u001b[0m \u001b[0;36m3\u001b[0m\u001b[0;34m:\u001b[0m\u001b[0;34m\u001b[0m\u001b[0;34m\u001b[0m\u001b[0m\n",
      "\u001b[0;31mTypeError\u001b[0m: Invalid shape () for image data"
     ]
    },
    {
     "data": {
      "image/png": "[encoded data removed]",
      "text/plain": [
       "<Figure size 432x288 with 1 Axes>"
      ]
     },
     "metadata": {
      "needs_background": "light"
     },
     "output_type": "display_data"
    }
   ],
   "source": [
    "plt.imshow(arm_output)"
   ]
  },
  {
   "cell_type": "code",
   "execution_count": 101,
   "metadata": {},
   "outputs": [
    {
     "data": {
      "text/plain": [
       "<matplotlib.image.AxesImage at 0x7fd26c0dfcc0>"
      ]
     },
     "execution_count": 101,
     "metadata": {},
     "output_type": "execute_result"
    },
    {
     "data": {
      "image/png": "[encoded data removed]",
      "text/plain": [
       "<Figure size 432x288 with 1 Axes>"
      ]
     },
     "metadata": {
      "needs_background": "light"
     },
     "output_type": "display_data"
    }
   ],
   "source": [
    "plt.imshow(RetColor(np.argmax(x, axis = -1)))"
   ]
  },
  {
   "cell_type": "code",
   "execution_count": 378,
   "metadata": {},
   "outputs": [
    {
     "ename": "NameError",
     "evalue": "name 'new_mask' is not defined",
     "output_type": "error",
     "traceback": [
      "\u001b[0;31m---------------------------------------------------------------------------\u001b[0m",
      "\u001b[0;31mNameError\u001b[0m                                 Traceback (most recent call last)",
      "\u001b[0;32m<ipython-input-378-4ecec045c71c>\u001b[0m in \u001b[0;36m<module>\u001b[0;34m\u001b[0m\n\u001b[0;32m----> 1\u001b[0;31m \u001b[0mnew_mask\u001b[0m\u001b[0;34m.\u001b[0m\u001b[0mshape\u001b[0m\u001b[0;34m\u001b[0m\u001b[0;34m\u001b[0m\u001b[0m\n\u001b[0m",
      "\u001b[0;31mNameError\u001b[0m: name 'new_mask' is not defined"
     ]
    }
   ],
   "source": [
    "new_mask.shape"
   ]
  },
  {
   "cell_type": "code",
   "execution_count": null,
   "metadata": {},
   "outputs": [],
   "source": []
  }
 ],
 "metadata": {
  "kernelspec": {
   "display_name": "firstEnv",
   "language": "python",
   "name": "firstenv"
  },
  "language_info": {
   "codemirror_mode": {
    "name": "ipython",
    "version": 3
   },
   "file_extension": ".py",
   "mimetype": "text/x-python",
   "name": "python",
   "nbconvert_exporter": "python",
   "pygments_lexer": "ipython3",
   "version": "3.6.10"
  }
 },
 "nbformat": 4,
 "nbformat_minor": 2
}
